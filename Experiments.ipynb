{
 "cells": [
  {
   "cell_type": "markdown",
   "metadata": {},
   "source": [
    "## Imports"
   ]
  },
  {
   "cell_type": "code",
   "execution_count": 1,
   "metadata": {},
   "outputs": [],
   "source": [
    "#Versión para tweepy V2\n",
    "from datetime import date, datetime, timedelta\n",
    "import datetime\n",
    "import requests\n",
    "import json\n",
    "import time\n",
    "from pathlib import Path\n",
    "import math\n",
    "import pymongo\n",
    "from bson import ObjectId\n",
    "import numpy as np\n",
    "from datetime import date\n",
    "import os\n",
    "import sys\n",
    "import matplotlib.pyplot as plt\n",
    "import pandas as pd\n",
    "import geopandas as gpd\n",
    "from shapely.geometry import Point, LineString\n",
    "from shapely import geometry, ops\n",
    "from mpl_toolkits.axes_grid1 import make_axes_locatable"
   ]
  },
  {
   "cell_type": "markdown",
   "metadata": {},
   "source": [
    "## Dictionaries"
   ]
  },
  {
   "cell_type": "code",
   "execution_count": 2,
   "metadata": {},
   "outputs": [],
   "source": [
    "user_dictionary = {\n",
    "    \"_id\"               : None,\n",
    "    \"description\"       : '',\n",
    "    \"created_at\"        : '',\n",
    "    \"verified\"          : '',\n",
    "    \"followers_count\"   : 0,\n",
    "    \"following_count\"   : 0\n",
    "}\n",
    "\n",
    "\n",
    "tweet_dictionary = {\n",
    "    \"_id\"               : None,\n",
    "    \"author_id\"         : '',\n",
    "    \"created_at\"        : '',\n",
    "    \"text\"              : '',\n",
    "    \"hashtag\"           : [],\n",
    "    \"referenced_tweets\" : [],\n",
    "    \"retweet_count\"     : 0,\n",
    "    \"reply_count\"       : 0,\n",
    "    \"reply_count\"       : 0,\n",
    "    \"like_count\"        : 0\n",
    "}\n",
    "\n",
    "\n",
    "node = {\n",
    "    \"hashtag\"           : '',\n",
    "    \"current_date\"        : '',\n",
    "    \"next_date\"        : '',\n",
    "    \"next_token\"        : '-1'\n",
    "}"
   ]
  },
  {
   "cell_type": "markdown",
   "metadata": {},
   "source": [
    "## Support functions"
   ]
  },
  {
   "cell_type": "code",
   "execution_count": 3,
   "metadata": {
    "tags": []
   },
   "outputs": [],
   "source": [
    "def DayMonthYearToPetition(date):\n",
    "    \"\"\"\n",
    "    \"\"\"\n",
    "    splited = ''\n",
    "    if ('/' in date):\n",
    "        splited = date.split('/')\n",
    "    elif ('-' in date):\n",
    "        splited = date.split('-')\n",
    "        \n",
    "    return (splited[2] + '-' + splited[1] + '-' + splited[0])\n",
    "\n",
    "def DayMonthYearToPetition(date):\n",
    "    \"\"\"\n",
    "    \"\"\"\n",
    "    splited = ''\n",
    "    if ('/' in date):\n",
    "        splited = date.split('/')\n",
    "    elif ('-' in date):\n",
    "        splited = date.split('-')\n",
    "\n",
    "    return (splited[2] + '-' + splited[1] + '-' + splited[0])\n",
    "\n",
    "def PetitionToDayMonthYear(petition):\n",
    "    \"\"\"\n",
    "    \"\"\"\n",
    "    splited = ''\n",
    "    time = ''\n",
    "    splited = petition.split('T')\n",
    "    time = splited[1]\n",
    "    splited = splited[0].split('-')\n",
    "    return (splited[2] + '-' + splited[1] + '-' + splited[0] + 'T' + time)\n",
    "\n",
    "def IsUnknown(user_id, user_list):\n",
    "    for user in user_list:\n",
    "        if (str(user['_id']) == str(user_id)):\n",
    "            return False\n",
    "    return True\n",
    "\n",
    "def NextDate(current_date):\n",
    "    '''\n",
    "        current_date: D'ia de entrada\n",
    "        return: Devuelve el d'ia siguiente al d'ia actual\n",
    "    '''\n",
    "    dat = datetime.datetime.strptime(current_date, \"%d/%m/%Y\")\n",
    "    dat += datetime.timedelta(days=1)\n",
    "    return dat.strftime(\"%d/%m/%Y\").split(' ')[0]\n",
    "\n",
    "def truncate(n):\n",
    "    s = str(float(n)).split('.')\n",
    "    return int(s[0])\n"
   ]
  },
  {
   "cell_type": "markdown",
   "metadata": {},
   "source": [
    "## Experimentation"
   ]
  },
  {
   "cell_type": "markdown",
   "metadata": {},
   "source": [
    "### Daily numbers of tweets and retweets with annotation of important external events."
   ]
  },
  {
   "cell_type": "code",
   "execution_count": 17,
   "metadata": {},
   "outputs": [
    {
     "data": {
      "image/png": "[encoded data removed]",
      "text/plain": [
       "<Figure size 432x288 with 1 Axes>"
      ]
     },
     "metadata": {
      "needs_background": "light"
     },
     "output_type": "display_data"
    },
    {
     "data": {
      "text/plain": [
       "<Figure size 648x216 with 0 Axes>"
      ]
     },
     "metadata": {},
     "output_type": "display_data"
    },
    {
     "name": "stdout",
     "output_type": "stream",
     "text": [
      "[0, 0, 2839, 4167, 4596, 974, 559, 447, 383, 217, 226]\n",
      "[0, 0, 32745, 34541, 62560, 8561, 4098, 1720, 1811, 1429, 2876]\n"
     ]
    }
   ],
   "source": [
    "def DailyTweetsAndRetweets(start, end):\n",
    "    myclient = pymongo.MongoClient('localhost', 27017)\n",
    "    mydb = myclient[\"mydatabase\"]\n",
    "    myusers = mydb[\"users\"]\n",
    "    mytweets = mydb[\"tweets\"]\n",
    "    current_date = start\n",
    "    today = ''\n",
    "    list_days = []\n",
    "    list_day_tweet_count = []\n",
    "    list_day_retweet_count = []\n",
    "    while current_date != end:\n",
    "        day = DayMonthYearToPetition(current_date) + 'T00:00:0.000Z'\n",
    "        gte = datetime.datetime.strptime(day, '%Y-%m-%dT%H:%M:%S.%fZ')\n",
    "\n",
    "        day = DayMonthYearToPetition(current_date) + 'T11:59:59.000Z'\n",
    "        lt = datetime.datetime.strptime(day, '%Y-%m-%dT%H:%M:%S.%fZ')\n",
    "        \n",
    "        tweets_not_retweets = len(list(mytweets.find( {\"$and\": [ { \"referenced_tweets.type\" : {\"$ne\": \"retweeted\"} }, { \"created_at\" : { '$gte' : gte , '$lt' : lt }} ] } )))\n",
    "        tweets_retweets = len(list(mytweets.find( {\"$and\": [ {\"referenced_tweets.type\" : \"retweeted\"}, {\"created_at\" : { '$gte' : gte , '$lt' : lt }} ] } )))\n",
    "        \n",
    "        list_days.append(current_date)\n",
    "        list_day_tweet_count.append(tweets_not_retweets)\n",
    "        list_day_retweet_count.append(tweets_retweets)\n",
    "        current_date = NextDate(current_date)\n",
    "    #print plot here\n",
    "    plt.plot(list_days, list_day_tweet_count, label = \"tweets\")\n",
    "    # plotting the line 2 points \n",
    "    plt.plot(list_days, list_day_retweet_count, label = \"retweets\")\n",
    "\n",
    "    # naming the x axis\n",
    "    plt.xlabel('Days')\n",
    "    # naming the y axis\n",
    "    plt.ylabel('Tweets volume')\n",
    "    # giving a title to my graph\n",
    "    plt.title('Tweets vs retweets daily')\n",
    "    # show a legend on the plot\n",
    "    plt.legend()\n",
    "    plt.figure(figsize = (9, 3))\n",
    "    # function to show the plot\n",
    "    plt.show()\n",
    "    print(list_day_tweet_count)\n",
    "    print(list_day_retweet_count)\n",
    "    \n",
    "DailyTweetsAndRetweets(\"02/07/2021\", \"13/07/2021\")"
   ]
  },
  {
   "cell_type": "markdown",
   "metadata": {},
   "source": [
    "### Top-10 most tweeted and retweeted keywords."
   ]
  },
  {
   "cell_type": "code",
   "execution_count": 21,
   "metadata": {},
   "outputs": [
    {
     "data": {
      "image/png": "[encoded data removed]",
      "text/plain": [
       "<Figure size 432x288 with 1 Axes>"
      ]
     },
     "metadata": {
      "needs_background": "light"
     },
     "output_type": "display_data"
    },
    {
     "data": {
      "image/png": "[encoded data removed]",
      "text/plain": [
       "<Figure size 432x288 with 1 Axes>"
      ]
     },
     "metadata": {
      "needs_background": "light"
     },
     "output_type": "display_data"
    },
    {
     "name": "stdout",
     "output_type": "stream",
     "text": [
      "[26674, 12368]\n",
      "[262840, 131566]\n"
     ]
    }
   ],
   "source": [
    "def Top10MostTweetsAndRetweets():\n",
    "    myclient = pymongo.MongoClient('localhost', 27017)\n",
    "    mydb = myclient[\"mydatabase\"]\n",
    "    myusers = mydb[\"users\"]\n",
    "    mytweets = mydb[\"tweets\"]\n",
    "    \n",
    "    hashtag_retweet = {}\n",
    "    hashtag_tweet = {}\n",
    "\n",
    "    list_hashtags = []\n",
    "    list_hashtag_retweet = []\n",
    "    list_hashtag_tweet = []\n",
    "    hashtags_list = []\n",
    "    hashtag = ''\n",
    "    \n",
    "    f =  open(\"./hashtags.txt\", \"r\")\n",
    "    while True:\n",
    "        # read line\n",
    "        try:\n",
    "            hashtag = f.readline()\n",
    "            if (hashtag == \"\") :\n",
    "                break\n",
    "        except:\n",
    "            # datetime object containing current date and time\n",
    "            now = datetime.datetime.now()\n",
    "            # dd/mm/YY H:M:S\n",
    "            dt_string = now.strftime(\"%d/%m/%Y %H:%M:%S\")\n",
    "            errorlog = open(\"./errorlog\" + d1 + \".txt\", \"a\")\n",
    "            errorlog.write(\"Fallo al leer el fichero hashtags.txt \" + dt_string + \"\\n\")\n",
    "            errorlog.close()\n",
    "\n",
    "        hashtag = hashtag.rstrip('\\n')\n",
    "        hashtag = hashtag.replace('#', '')\n",
    "        hashtags_list.append(hashtag.upper())\n",
    "        \n",
    "    f.close()\n",
    "    \n",
    "    for h in hashtags_list:\n",
    "        \n",
    "        tweets_not_retweets = len(list(mytweets.find( { \"$and\": [ {\"referenced_tweets.type\" : {\"$ne\": \"retweeted\"} }, { \"hashtag\": h } ] } )))\n",
    "        tweets_retweets = len(list(mytweets.find( { \"$and\": [ {\"referenced_tweets.type\" : \"retweeted\"}, {\"hashtag\" : h  } ] } )))\n",
    "        \n",
    "        hashtag_retweet[h] = tweets_retweets\n",
    "        hashtag_tweet[h] = tweets_not_retweets\n",
    "                        \n",
    "    sort_hashtag_retweet = sorted(hashtag_retweet.items(), key=lambda x: x[1], reverse=True)\n",
    "    sort_hashtag_tweet = sorted(hashtag_tweet.items(), key=lambda x: x[1], reverse=True)\n",
    "    \n",
    "    for node in sort_hashtag_retweet[0:10]:\n",
    "        list_hashtag_retweet.append(node[1])\n",
    "        list_hashtags.append(node[0])\n",
    "    #print plot here\n",
    "    plt.figure(0)\n",
    "    plt.bar(list_hashtags, list_hashtag_retweet, label = \"retweets\")\n",
    "    # naming the x axis\n",
    "    plt.xlabel('Hashtags')\n",
    "    # naming the y axis\n",
    "    plt.ylabel('Tweets volume')\n",
    "    # giving a title to my graph\n",
    "    plt.title(\"Top 10 hashtag's retweets\")\n",
    "    # show a legend on the plot\n",
    "    plt.legend()\n",
    "    \n",
    "    list_hashtags = []\n",
    "    if len(sort_hashtag_tweet) > 10:\n",
    "        for node in sort_hashtag_tweet[0:10]:\n",
    "            list_hashtag_tweet.append(node[1])\n",
    "            list_hashtags.append(node[0])\n",
    "    else:\n",
    "        for node in sort_hashtag_tweet:\n",
    "            list_hashtag_tweet.append(node[1])\n",
    "            list_hashtags.append(node[0])\n",
    "            \n",
    "    # plotting the line 2 points \n",
    "    plt.figure(1)\n",
    "    plt.bar(list_hashtags, list_hashtag_tweet, label = \"tweets\")\n",
    "    # naming the x axis\n",
    "    plt.xlabel('Hashtags')\n",
    "    # naming the y axis\n",
    "    plt.ylabel('Tweets volume')\n",
    "    # giving a title to my graph\n",
    "    plt.title(\"Top 10 hashtag's tweets\")\n",
    "    # show a legend on the plot\n",
    "    plt.legend()\n",
    "    \n",
    "    # function to show the plot\n",
    "    plt.show()\n",
    "    print(list_hashtag_tweet)\n",
    "    print(list_hashtag_retweet)\n",
    "    \n",
    "Top10MostTweetsAndRetweets()"
   ]
  },
  {
   "cell_type": "markdown",
   "metadata": {},
   "source": [
    "### Word clouds with the top-100 most popular words in numbers of tweets and retweets."
   ]
  },
  {
   "cell_type": "code",
   "execution_count": null,
   "metadata": {},
   "outputs": [],
   "source": [
    "# https://www.datacamp.com/community/tutorials/wordcloud-python"
   ]
  },
  {
   "cell_type": "markdown",
   "metadata": {},
   "source": [
    "### Keywords popularity over the weeks."
   ]
  },
  {
   "cell_type": "code",
   "execution_count": 23,
   "metadata": {},
   "outputs": [
    {
     "data": {
      "image/png": "[encoded data removed]",
      "text/plain": [
       "<Figure size 432x288 with 1 Axes>"
      ]
     },
     "metadata": {
      "needs_background": "light"
     },
     "output_type": "display_data"
    },
    {
     "name": "stdout",
     "output_type": "stream",
     "text": [
      "['JUSTICIAPARASAMUEL#W1']\n",
      "[287673]\n"
     ]
    }
   ],
   "source": [
    "def datespan(startDate, endDate):\n",
    "    current_date = startDate\n",
    "    dat = datetime.datetime.strptime(current_date, \"%d/%m/%Y\")\n",
    "    dat += datetime.timedelta(days= (6 - dat.weekday()))\n",
    "    next_date = dat.strftime(\"%d/%m/%Y\").split(' ')[0]\n",
    "    if datetime.datetime.strptime(current_date, \"%d/%m/%Y\") < datetime.datetime.strptime(endDate, \"%d/%m/%Y\"):\n",
    "        return endDate\n",
    "    else: \n",
    "        return next_date\n",
    "\n",
    "def HashtagsPerWeekPopularity(startDate, endDate):\n",
    "    myclient = pymongo.MongoClient('localhost', 27017)\n",
    "    mydb = myclient[\"mydatabase\"]\n",
    "    myusers = mydb[\"users\"]\n",
    "    mytweets = mydb[\"tweets\"]\n",
    "    \n",
    "    current_date = startDate\n",
    "    next_date = ''\n",
    "    hashtags_list = []\n",
    "    \n",
    "    hashtag_count = {}\n",
    "    \n",
    "    hashtags_plt = []\n",
    "    count_plt = []\n",
    "    f =  open(\"./hashtags.txt\", \"r\")\n",
    "    while True:\n",
    "        # read line\n",
    "        try:\n",
    "            hashtag = f.readline()\n",
    "            if (hashtag == \"\") :\n",
    "                break\n",
    "        except:\n",
    "            # datetime object containing current date and time\n",
    "            now = datetime.datetime.now()\n",
    "            # dd/mm/YY H:M:S\n",
    "            dt_string = now.strftime(\"%d/%m/%Y %H:%M:%S\")\n",
    "            errorlog = open(\"./errorlog\" + d1 + \".txt\", \"a\")\n",
    "            errorlog.write(\"Fallo al leer el fichero hashtags.txt \" + dt_string + \"\\n\")\n",
    "            errorlog.close()\n",
    "\n",
    "        hashtag = hashtag.rstrip('\\n')\n",
    "        hashtag = hashtag.replace('#', '')\n",
    "        hashtags_list.append(hashtag.upper())\n",
    "\n",
    "    f.close()\n",
    "    \n",
    "    gte = ''\n",
    "    lt = ''\n",
    "    week_count = 1\n",
    "    while current_date != endDate:\n",
    "        next_date = datespan(current_date, endDate)\n",
    "        for h in hashtags_list:\n",
    "            day = DayMonthYearToPetition(current_date) + 'T00:00:0.000Z'\n",
    "            gte = datetime.datetime.strptime(day, '%Y-%m-%dT%H:%M:%S.%fZ')\n",
    "            day = DayMonthYearToPetition(next_date) + 'T00:00:0.000Z'\n",
    "            lt = datetime.datetime.strptime(day, '%Y-%m-%dT%H:%M:%S.%fZ')\n",
    "            hashtag_count[h] = len(list(mytweets.find( { \"$and\": [ { 'hashtag' : h }, { 'created_at' : { '$gte' : gte , '$lt' : lt } } ] } )))\n",
    "        #aqui obtenemos el hashtag con mayor cantida de tweets y retweets y lo insertamos en la lista final\n",
    "        sort_hashtag_count = sorted(hashtag_count.items(), key=lambda x: x[1], reverse=True)\n",
    "        hashtags_plt.append(sort_hashtag_count[0][0] + '#W' + str(week_count))\n",
    "        count_plt.append(sort_hashtag_count[0][1])\n",
    "        current_date = next_date\n",
    "        hashtag_count = {}\n",
    "        week_count += 1\n",
    "        gte = ''\n",
    "        lt = ''\n",
    "        \n",
    "        \n",
    "    plt.bar(hashtags_plt, count_plt, label = \"tweets and retweets\")\n",
    "    # naming the x axis\n",
    "    plt.xlabel('Hashtag')\n",
    "    # naming the y axis\n",
    "    plt.ylabel('Tweets and retweets volume')\n",
    "    # giving a title to my graph\n",
    "    plt.title(\"Hashtags per week popularity\")\n",
    "    # show a legend on the plot\n",
    "    plt.legend()\n",
    "\n",
    "    # function to show the plot\n",
    "    plt.show()\n",
    "    \n",
    "   \n",
    "    print(hashtags_plt)\n",
    "    print(count_plt)\n",
    "            \n",
    "\n",
    "HashtagsPerWeekPopularity(\"02/07/2021\", \"13/07/2021\")"
   ]
  },
  {
   "cell_type": "markdown",
   "metadata": {},
   "source": [
    "### Distributions of the number of tweets and retweets per Twitter account."
   ]
  },
  {
   "cell_type": "code",
   "execution_count": null,
   "metadata": {},
   "outputs": [],
   "source": [
    "def ecdf(a):\n",
    "    x, counts = np.unique(a, return_counts=True)\n",
    "    cusum = np.cumsum(counts)\n",
    "    return x, cusum / cusum[-1]\n",
    "\n",
    "def plot_ecdf(a):\n",
    "    x, y = ecdf(a)\n",
    "    x = np.insert(x, 0, x[0])\n",
    "    y = np.insert(y, 0, 0.)\n",
    "    plt.plot(x, y, drawstyle='steps-post')\n",
    "    plt.grid(True)\n",
    "    #plt.savefig('ecdf.png')\n",
    "# no s'e si funciona\n",
    "def DistributionTweetRetweetAccounts():\n",
    "    myclient = pymongo.MongoClient('localhost', 27017)\n",
    "    mydb = myclient[\"mydatabase\"]\n",
    "    myusers = mydb[\"users\"]\n",
    "    mytweets = mydb[\"tweets\"]\n",
    "    \n",
    "    user_retweet_count = []\n",
    "    user_tweet_count = []\n",
    "\n",
    "    try:\n",
    "        tweets = list(mytweets.find())\n",
    "        users = list(myusers.find())\n",
    "    except Exception as e:        \n",
    "        pass\n",
    "    \n",
    "    list_hashtags = []\n",
    "    list_hashtag_retweet = []\n",
    "    list_hashtag_tweet = []\n",
    "    \n",
    "    for u in users:\n",
    "        tweets_not_retweets = len(list(mytweets.find( { \"$and\": [ {\"referenced_tweets.type\" : {\"$ne\": \"retweeted\"} }, { \"author_id\": u['_id'] } ] } )))\n",
    "        tweets_retweets = len(list(mytweets.find( { \"$and\": [ {\"referenced_tweets.type\" : \"retweeted\"}, {\"author_id\": u['_id'] } ] } )))\n",
    "        \n",
    "        user_retweet_count.append(tweets_retweets)\n",
    "        user_tweet_count.append(tweets_not_retweets)\n",
    "    \n",
    "    xvec = np.array(user_retweet_count)\n",
    "    plot_ecdf(xvec)\n",
    "    \n",
    "    xvec = np.array(user_tweet_count)\n",
    "    plot_ecdf(xvec)\n",
    "    \n",
    "    print(list_hashtag_tweet)\n",
    "    print(list_hashtag_retweet)\n",
    "    \n",
    "DistributionTweetRetweetAccounts()"
   ]
  },
  {
   "cell_type": "markdown",
   "metadata": {},
   "source": [
    "### Top-5 most active verified user accounts."
   ]
  },
  {
   "cell_type": "code",
   "execution_count": 24,
   "metadata": {},
   "outputs": [
    {
     "data": {
      "image/png": "[encoded data removed]",
      "text/plain": [
       "<Figure size 432x288 with 1 Axes>"
      ]
     },
     "metadata": {
      "needs_background": "light"
     },
     "output_type": "display_data"
    },
    {
     "data": {
      "image/png": "[encoded data removed]",
      "text/plain": [
       "<Figure size 432x288 with 1 Axes>"
      ]
     },
     "metadata": {
      "needs_background": "light"
     },
     "output_type": "display_data"
    },
    {
     "name": "stdout",
     "output_type": "stream",
     "text": [
      "[(ObjectId('000000000000000158313996'), 31), (ObjectId('000000000000003306969352'), 25), (ObjectId('000000000000000364528766'), 22), (ObjectId('000000000000000117715918'), 18), (ObjectId('000000000000000066731566'), 15)]\n",
      "[(ObjectId('000000000000000066731566'), 55), (ObjectId('000000000000000117715918'), 28), (ObjectId('000000000000000555395673'), 19), (ObjectId('000000000000000247888588'), 15), (ObjectId('000000000000003306969352'), 14)]\n"
     ]
    }
   ],
   "source": [
    "def Top5VerifiedUserTweets():\n",
    "    myclient = pymongo.MongoClient('localhost', 27017)\n",
    "    mydb = myclient[\"mydatabase\"]\n",
    "    myusers = mydb[\"users\"]\n",
    "    mytweets = mydb[\"tweets\"]\n",
    "    \n",
    "    users = []\n",
    "    user_retweet = {}\n",
    "    user_tweet = {}\n",
    "    \n",
    "    try:\n",
    "        users = list(myusers.find( { \"verified\" : True } ))\n",
    "    except Exception as e:        \n",
    "        pass\n",
    "\n",
    "    list_user = []\n",
    "    list_user_retweet = []\n",
    "    list_user_tweet = []\n",
    "    \n",
    "    for u in users:\n",
    "        tweets_not_retweets = len(list(mytweets.find( { \"$and\": [ {\"referenced_tweets.type\" : {\"$ne\": \"retweeted\"} }, { \"author_id\": u['_id'] } ] } )))\n",
    "        tweets_retweets = len(list(mytweets.find( { \"$and\": [ {\"referenced_tweets.type\" : \"retweeted\"}, {\"author_id\": u['_id'] } ] } )))\n",
    "        user_retweet[u['_id']] = tweets_retweets\n",
    "        user_tweet[u['_id']] = tweets_not_retweets\n",
    "                        \n",
    "    sort_user_retweet = sorted(user_retweet.items(), key=lambda x: x[1], reverse=True)\n",
    "    sort_user_tweet = sorted(user_tweet.items(), key=lambda x: x[1], reverse=True)\n",
    "    \n",
    "    \n",
    "    for node in sort_user_retweet[0:5]:\n",
    "        list_user_retweet.append(node[1])\n",
    "        list_user.append(str(node[0]).lstrip(\"0\"))\n",
    "    # plotting the line 2 points \n",
    "    plt.figure(1)\n",
    "    plt.plot(list_user, list_user_retweet, label = \"retweets\")\n",
    "    # naming the x axis\n",
    "    plt.xlabel('author_id')\n",
    "    # naming the y axis\n",
    "    plt.ylabel('Tweets volume')\n",
    "    # giving a title to my graph\n",
    "    plt.title(\"Top 5 verified users's retweets\")\n",
    "    # show a legend on the plot\n",
    "    plt.legend()\n",
    "    \n",
    "    list_user = []\n",
    "    for node in sort_user_tweet[0:5]:\n",
    "        list_user_tweet.append(node[1])\n",
    "        list_user.append(str(node[0]).lstrip(\"0\"))\n",
    "    #print plot here\n",
    "    plt.figure(0)\n",
    "    plt.plot(list_user, list_user_tweet, label = \"tweets\")\n",
    "    # naming the x axis\n",
    "    plt.xlabel('author_id')\n",
    "    # naming the y axis\n",
    "    plt.ylabel('Tweets volume')\n",
    "    # giving a title to my graph\n",
    "    plt.title(\"Top 5 verified users's tweets\")\n",
    "    # show a legend on the plot\n",
    "    plt.legend()\n",
    "    \n",
    "    # function to show the plot\n",
    "    plt.show()\n",
    "\n",
    "    print(sort_user_tweet[0:5])\n",
    "    print(sort_user_retweet[0:5])\n",
    "    \n",
    "Top5VerifiedUserTweets()"
   ]
  },
  {
   "cell_type": "markdown",
   "metadata": {},
   "source": [
    "### Co-occurrence networks for tweets and retweets."
   ]
  },
  {
   "cell_type": "code",
   "execution_count": null,
   "metadata": {},
   "outputs": [],
   "source": []
  },
  {
   "cell_type": "markdown",
   "metadata": {},
   "source": [
    "### Top-20 LIWC attributes extracted from the collected tweets and retweets."
   ]
  },
  {
   "cell_type": "code",
   "execution_count": null,
   "metadata": {},
   "outputs": [],
   "source": []
  },
  {
   "cell_type": "markdown",
   "metadata": {},
   "source": [
    "### Heat map"
   ]
  },
  {
   "cell_type": "code",
   "execution_count": 25,
   "metadata": {},
   "outputs": [
    {
     "name": "stdout",
     "output_type": "stream",
     "text": [
      "1649\n",
      "[2, 13, 0, 0, 47, 30, 10, 118, 499, 135, 115, 92, 203, 27, 32, 0, 34, 0, 1, 197]\n"
     ]
    },
    {
     "data": {
      "text/plain": [
       "<AxesSubplot:>"
      ]
     },
     "execution_count": 25,
     "metadata": {},
     "output_type": "execute_result"
    },
    {
     "data": {
      "image/png": "[encoded data removed]",
      "text/plain": [
       "<Figure size 432x288 with 2 Axes>"
      ]
     },
     "metadata": {
      "needs_background": "light"
     },
     "output_type": "display_data"
    }
   ],
   "source": [
    "myclient = pymongo.MongoClient('localhost', 27017)\n",
    "mydb = myclient[\"mydatabase_ejemplos\"]\n",
    "myusers = mydb[\"users_ejemplos\"]\n",
    "mytweets = mydb[\"tweets_ejemplos\"]\n",
    "\n",
    "tweet_list = list(mytweets.find( {'$and': [{ \"place\" : {\"$ne\": \"\"}}, {'geo.country': 'España'}] }))\n",
    "print(str(len(tweet_list)))\n",
    "\n",
    "\n",
    "# set the filepath and load\n",
    "fp = 'recintos_autonomicas_inspire_peninbal_etrs89.shp'\n",
    "#reading the file stored in variable fp\n",
    "map_df = gpd.read_file(fp)\n",
    "# check data type so we can see that this is not a normal dataframe, but a GEOdataframe\n",
    "\n",
    "list_comunidades_count = [0 for i in range(len(map_df.NAMEUNIT))]\n",
    "\n",
    "\n",
    "\n",
    "for tweet in tweet_list:\n",
    "    index = 0\n",
    "    while index < len(map_df.NAMEUNIT):\n",
    "        line = LineString([(tweet['geo']['geo']['bbox'][0], tweet['geo']['geo']['bbox'][1]), (tweet['geo']['geo']['bbox'][2], tweet['geo']['geo']['bbox'][3])])\n",
    "        if line.distance(map_df.geometry[index]) < 0.6:\n",
    "            list_comunidades_count[index] = list_comunidades_count[index] + 1\n",
    "            break\n",
    "        index += 1\n",
    "\n",
    "print(list_comunidades_count)\n",
    "map_df['count_tweets'] = list_comunidades_count\n",
    "fig, ax = plt.subplots(1, 1)\n",
    "divider = make_axes_locatable(ax)\n",
    "cax = divider.append_axes(\"right\", size=\"5%\", pad=0.1)\n",
    "map_df.plot(column='count_tweets', ax=ax, legend=True, cax=cax, cmap='OrRd')\n",
    "    "
   ]
  },
  {
   "cell_type": "code",
   "execution_count": null,
   "metadata": {},
   "outputs": [],
   "source": []
  }
 ],
 "metadata": {
  "kernelspec": {
   "display_name": "TFGBotsV2",
   "language": "python",
   "name": "tfgbotsv2"
  },
  "language_info": {
   "codemirror_mode": {
    "name": "ipython",
    "version": 3
   },
   "file_extension": ".py",
   "mimetype": "text/x-python",
   "name": "python",
   "nbconvert_exporter": "python",
   "pygments_lexer": "ipython3",
   "version": "3.9.6"
  },
  "metadata": {
   "interpreter": {
    "hash": "79fc3c954d64dbcf3cc8f2394a5e83a280e126f0ab97a2117c3267677291b603"
   }
  }
 },
 "nbformat": 4,
 "nbformat_minor": 4
}
